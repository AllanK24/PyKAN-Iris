{
 "cells": [
  {
   "cell_type": "code",
   "execution_count": 1,
   "metadata": {},
   "outputs": [],
   "source": [
    "from kan import *"
   ]
  },
  {
   "cell_type": "code",
   "execution_count": 2,
   "metadata": {},
   "outputs": [],
   "source": [
    "from sklearn.datasets import load_iris\n",
    "data = load_iris()\n",
    "X, y = data.data, data.target"
   ]
  },
  {
   "cell_type": "code",
   "execution_count": 3,
   "metadata": {},
   "outputs": [],
   "source": [
    "from sklearn.model_selection import train_test_split\n",
    "\n",
    "train_data, test_data, train_labels, test_labels = train_test_split(X, y, test_size=0.1, stratify=y, random_state=42)"
   ]
  },
  {
   "cell_type": "code",
   "execution_count": 4,
   "metadata": {},
   "outputs": [],
   "source": [
    "dataset = {}\n",
    "\n",
    "dataset['train_input'] = torch.from_numpy(train_data).long()\n",
    "dataset['test_input'] = torch.from_numpy(test_data).long()\n",
    "dataset['train_label'] = torch.from_numpy(train_labels).long()\n",
    "dataset['test_label'] = torch.from_numpy(test_labels).long()"
   ]
  },
  {
   "cell_type": "code",
   "execution_count": 5,
   "metadata": {},
   "outputs": [],
   "source": [
    "model = KAN([4,3],grid=3,k=3,seed=0)"
   ]
  },
  {
   "cell_type": "code",
   "execution_count": 6,
   "metadata": {},
   "outputs": [],
   "source": [
    "def train_acc():\n",
    "    return torch.mean((torch.argmax(model(dataset['train_input']), dim=1) == dataset['train_label']).float())\n",
    "\n",
    "def test_acc():\n",
    "    return torch.mean((torch.argmax(model(dataset['test_input']), dim=1) == dataset['test_label']).float())"
   ]
  },
  {
   "cell_type": "code",
   "execution_count": 7,
   "metadata": {},
   "outputs": [
    {
     "name": "stdout",
     "output_type": "stream",
     "text": [
      "(135, 4)\n",
      "(135,)\n",
      "(15, 4)\n",
      "(15,)\n"
     ]
    }
   ],
   "source": [
    "print(train_data.shape)\n",
    "print(train_labels.shape)\n",
    "print(test_data.shape)\n",
    "print(test_labels.shape)"
   ]
  },
  {
   "cell_type": "code",
   "execution_count": 8,
   "metadata": {},
   "outputs": [
    {
     "name": "stderr",
     "output_type": "stream",
     "text": [
      "train loss: 3.33e-01 | test loss: 5.48e-01 | reg: 7.21e+01 : 100%|████| 5/5 [00:02<00:00,  2.36it/s]\n"
     ]
    }
   ],
   "source": [
    "results = model.train(dataset, opt=\"LBFGS\", steps=5, metrics=(train_acc, test_acc), loss_fn=torch.nn.CrossEntropyLoss())"
   ]
  },
  {
   "cell_type": "code",
   "execution_count": 9,
   "metadata": {},
   "outputs": [
    {
     "data": {
      "text/plain": [
       "5"
      ]
     },
     "execution_count": 9,
     "metadata": {},
     "output_type": "execute_result"
    }
   ],
   "source": [
    "len(results)"
   ]
  },
  {
   "cell_type": "code",
   "execution_count": 10,
   "metadata": {},
   "outputs": [
    {
     "data": {
      "text/plain": [
       "tensor(0.9630)"
      ]
     },
     "execution_count": 10,
     "metadata": {},
     "output_type": "execute_result"
    }
   ],
   "source": [
    "train_acc()"
   ]
  },
  {
   "cell_type": "code",
   "execution_count": 11,
   "metadata": {},
   "outputs": [
    {
     "data": {
      "text/plain": [
       "tensor(0.9333)"
      ]
     },
     "execution_count": 11,
     "metadata": {},
     "output_type": "execute_result"
    }
   ],
   "source": [
    "test_acc()"
   ]
  },
  {
   "cell_type": "code",
   "execution_count": 12,
   "metadata": {},
   "outputs": [
    {
     "name": "stdout",
     "output_type": "stream",
     "text": [
      "save this model to ./model_ckpt/kan-model_iris\n"
     ]
    }
   ],
   "source": [
    "model.save_ckpt('kan-model_iris')"
   ]
  },
  {
   "cell_type": "code",
   "execution_count": 13,
   "metadata": {},
   "outputs": [
    {
     "data": {
      "text/plain": [
       "{'train_loss': [array(0.33479586, dtype=float32),\n",
       "  array(0.3340198, dtype=float32),\n",
       "  array(0.3332871, dtype=float32),\n",
       "  array(0.33285633, dtype=float32),\n",
       "  array(0.33277956, dtype=float32)],\n",
       " 'test_loss': [array(0.556472, dtype=float32),\n",
       "  array(0.54728675, dtype=float32),\n",
       "  array(0.55170435, dtype=float32),\n",
       "  array(0.5488129, dtype=float32),\n",
       "  array(0.5476131, dtype=float32)],\n",
       " 'reg': [array(28.852556, dtype=float32),\n",
       "  array(33.05869, dtype=float32),\n",
       "  array(46.60375, dtype=float32),\n",
       "  array(60.87167, dtype=float32),\n",
       "  array(72.11209, dtype=float32)],\n",
       " 'train_acc': [0.9629629850387573,\n",
       "  0.9629629850387573,\n",
       "  0.9629629850387573,\n",
       "  0.9629629850387573,\n",
       "  0.9629629850387573],\n",
       " 'test_acc': [0.9333333373069763,\n",
       "  0.9333333373069763,\n",
       "  0.9333333373069763,\n",
       "  0.9333333373069763,\n",
       "  0.9333333373069763]}"
      ]
     },
     "execution_count": 13,
     "metadata": {},
     "output_type": "execute_result"
    }
   ],
   "source": [
    "results"
   ]
  }
 ],
 "metadata": {
  "kernelspec": {
   "display_name": ".venv",
   "language": "python",
   "name": "python3"
  },
  "language_info": {
   "codemirror_mode": {
    "name": "ipython",
    "version": 3
   },
   "file_extension": ".py",
   "mimetype": "text/x-python",
   "name": "python",
   "nbconvert_exporter": "python",
   "pygments_lexer": "ipython3",
   "version": "3.11.5"
  }
 },
 "nbformat": 4,
 "nbformat_minor": 2
}
